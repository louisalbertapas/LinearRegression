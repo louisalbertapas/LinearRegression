{
 "cells": [
  {
   "cell_type": "code",
   "execution_count": 1,
   "metadata": {},
   "outputs": [],
   "source": [
    "import numpy as np\n",
    "from io import StringIO"
   ]
  },
  {
   "cell_type": "code",
   "execution_count": 2,
   "metadata": {},
   "outputs": [],
   "source": [
    "# Method to compute the individual cost function of the training sets\n",
    "# Params: X-input matrix, y-output vector, theta-values vector\n",
    "# Returns: Cost function J\n",
    "def compute_cost(X, y, theta):\n",
    "    m = y.size\n",
    "    h0 = np.array([np.sum(X * theta.T, 0)])\n",
    "    delta = h0 - y\n",
    "    J = np.sum(np.square(delta)) / (2 * m)\n",
    "    return J"
   ]
  },
  {
   "cell_type": "code",
   "execution_count": 3,
   "metadata": {},
   "outputs": [],
   "source": [
    "# Method to perform gradient descent\n",
    "# Params: X-input matrix, y-output vector, theta-weights vector, learning_rate, iterations\n",
    "# Returns: Cost function vector Jhist, Final theta-values vector\n",
    "def gradient_descent(X, y, theta, learning_rate, iterations):\n",
    "    m = y.size\n",
    "    Jhist = np.array([np.zeros(iterations)]).T\n",
    "    for i in range(iterations):\n",
    "        h0 = np.array([np.sum(X * theta.T, 0)])\n",
    "        delta = np.array([np.sum((h0 - y) * X, 1) / m]).T\n",
    "        theta = theta - (learning_rate * delta).T\n",
    "        Jhist[i] = compute_cost(X, y, theta)\n",
    "    \n",
    "    return Jhist, theta"
   ]
  },
  {
   "cell_type": "code",
   "execution_count": 4,
   "metadata": {},
   "outputs": [],
   "source": [
    "# Load data set\n",
    "# This instance has datasets delimited by ','\n",
    "# e.g\n",
    "# 12.2,25\n",
    "# 10.3,22\n",
    "# 15.2,2.5\n",
    "# 2.1,0.2\n",
    "data = np.loadtxt('data.txt', dtype=float, delimiter=',')"
   ]
  },
  {
   "cell_type": "code",
   "execution_count": 5,
   "metadata": {},
   "outputs": [],
   "source": [
    "# Place datasets on respective matrices and vectors\n",
    "X = np.array([data[:,0]])\n",
    "y = np.array([data[:,1]])\n",
    "theta = np.array([[0, 0]])\n",
    "learning_rate = 0.010\n",
    "iterations = 1500\n",
    "# X.shape, y.shape, theta.shape"
   ]
  },
  {
   "cell_type": "code",
   "execution_count": 6,
   "metadata": {},
   "outputs": [],
   "source": [
    "# pad inputs with ones to serve as the input for X0 feature to match with theta0 value\n",
    "padded_ones = np.array([np.ones(X.shape[1])])\n",
    "X = np.row_stack((padded_ones, X))"
   ]
  },
  {
   "cell_type": "code",
   "execution_count": 7,
   "metadata": {},
   "outputs": [
    {
     "name": "stdout",
     "output_type": "stream",
     "text": [
      "[[-3.63029144  1.16636235]]\n"
     ]
    }
   ],
   "source": [
    "Jhist, theta = gradient_descent(X, y, theta, learning_rate, iterations)\n",
    "print(theta)"
   ]
  },
  {
   "cell_type": "code",
   "execution_count": 8,
   "metadata": {},
   "outputs": [
    {
     "name": "stdout",
     "output_type": "stream",
     "text": [
      "0.21870431670306045\n"
     ]
    }
   ],
   "source": [
    "# sample prediction\n",
    "sample_prediction = np.array([1, 3.3]) @ theta[0]\n",
    "print(sample_prediction)"
   ]
  },
  {
   "cell_type": "code",
   "execution_count": null,
   "metadata": {},
   "outputs": [],
   "source": []
  }
 ],
 "metadata": {
  "kernelspec": {
   "display_name": "Python 3",
   "language": "python",
   "name": "python3"
  },
  "language_info": {
   "codemirror_mode": {
    "name": "ipython",
    "version": 3
   },
   "file_extension": ".py",
   "mimetype": "text/x-python",
   "name": "python",
   "nbconvert_exporter": "python",
   "pygments_lexer": "ipython3",
   "version": "3.8.3"
  }
 },
 "nbformat": 4,
 "nbformat_minor": 4
}
